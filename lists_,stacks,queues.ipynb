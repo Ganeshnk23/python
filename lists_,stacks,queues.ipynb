{
  "nbformat": 4,
  "nbformat_minor": 0,
  "metadata": {
    "colab": {
      "provenance": []
    },
    "kernelspec": {
      "name": "python3",
      "display_name": "Python 3"
    },
    "language_info": {
      "name": "python"
    }
  },
  "cells": [
    {
      "cell_type": "code",
      "execution_count": null,
      "metadata": {
        "colab": {
          "base_uri": "https://localhost:8080/"
        },
        "id": "x8YH5x7TEfFH",
        "outputId": "e2060edd-769c-4384-a393-c98f36d95ed1"
      },
      "outputs": [
        {
          "output_type": "stream",
          "name": "stdout",
          "text": [
            "['hello']\n"
          ]
        }
      ],
      "source": [
        "s1=\"hello\"\n",
        "lst=list([s1])\n",
        "print(lst)"
      ]
    },
    {
      "cell_type": "code",
      "source": [
        "l1=[\"anu\",123,11222]\n",
        "l2=[\"akash\",112,332321]\n",
        "print(l1+l2)"
      ],
      "metadata": {
        "colab": {
          "base_uri": "https://localhost:8080/"
        },
        "id": "f6lNhfh9FA0i",
        "outputId": "de162d7b-23cc-4872-b30d-cddca267d5a3"
      },
      "execution_count": null,
      "outputs": [
        {
          "output_type": "stream",
          "name": "stdout",
          "text": [
            "['anu', 123, 11222, 'akash', 112, 332321]\n"
          ]
        }
      ]
    },
    {
      "cell_type": "code",
      "source": [
        "l1=[\"anu\",12,231233]\n",
        "print(l1[2])\n",
        "print(l1[-2])\n",
        "print(l1[1:3:2])"
      ],
      "metadata": {
        "colab": {
          "base_uri": "https://localhost:8080/"
        },
        "id": "jxmc42QIGglm",
        "outputId": "767495c3-108d-4567-f028-78b35546e944"
      },
      "execution_count": null,
      "outputs": [
        {
          "output_type": "stream",
          "name": "stdout",
          "text": [
            "231233\n",
            "12\n",
            "[12]\n"
          ]
        }
      ]
    },
    {
      "cell_type": "code",
      "source": [
        "l1=[\"Anu\"\n",
        ",23,112233,34000]\n",
        "print(l1)\n",
        "l1[1]=28\n",
        "l1[-1]=123456\n",
        "print(l1)"
      ],
      "metadata": {
        "colab": {
          "base_uri": "https://localhost:8080/"
        },
        "id": "MMxZdZmsG5xL",
        "outputId": "7fb90caf-51db-4662-c7ba-81971875ede8"
      },
      "execution_count": null,
      "outputs": [
        {
          "output_type": "stream",
          "name": "stdout",
          "text": [
            "['Anu', 23, 112233, 34000]\n",
            "['Anu', 28, 112233, 123456]\n"
          ]
        }
      ]
    },
    {
      "cell_type": "code",
      "source": [
        "l1=[\"anu\",\"siri\",\"dhanush\",\"bhoomi\"]\n",
        "l2=[1,2,5,4]\n",
        "print(len(l1))\n",
        "print(sum(l2))\n",
        "print(all(l2))\n",
        "print(any(l2))\n",
        "print(sorted(l2))"
      ],
      "metadata": {
        "colab": {
          "base_uri": "https://localhost:8080/"
        },
        "id": "whUmT9roH8_C",
        "outputId": "3df4d05b-0e4b-46cf-8bca-ec8e1fc45d2a"
      },
      "execution_count": null,
      "outputs": [
        {
          "output_type": "stream",
          "name": "stdout",
          "text": [
            "4\n",
            "12\n",
            "True\n",
            "True\n",
            "[1, 2, 4, 5]\n"
          ]
        }
      ]
    },
    {
      "cell_type": "code",
      "source": [
        "nestlst = [1, 2, ['a', 1,2], 3]\n",
        "subList = nestlst[2]\n",
        "print(\"nested list is:\",nestlst)\n",
        "print(\"List inside the nested list: \", subList)\n",
        "print(\"First element of the sublist: \",nestlst[2][2])"
      ],
      "metadata": {
        "colab": {
          "base_uri": "https://localhost:8080/"
        },
        "id": "5_kY-pyoJfHn",
        "outputId": "83c52e80-7ca7-4d39-9b4b-cec3ae53de49"
      },
      "execution_count": null,
      "outputs": [
        {
          "output_type": "stream",
          "name": "stdout",
          "text": [
            "nested list is: [1, 2, ['a', 1, 2], 3]\n",
            "List inside the nested list:  ['a', 1, 2]\n",
            "First element of the sublist:  2\n"
          ]
        }
      ]
    },
    {
      "cell_type": "code",
      "source": [
        "stack = []\n",
        "stack.append('a')\n",
        "stack.append('b')\n",
        "stack.append('c')\n",
        "print('Initial stack')\n",
        "print(stack)\n",
        "print('\\nElements popped from stack:')\n",
        "print(stack.pop())\n",
        "print(stack.pop())\n",
        "print(stack.pop())\n",
        "print('\\nStack after elements are popped:')\n",
        "print(stack)"
      ],
      "metadata": {
        "colab": {
          "base_uri": "https://localhost:8080/"
        },
        "id": "ZzCbeiXILSWK",
        "outputId": "ad5bc8ec-54c1-44ed-c899-bf3ac7c46dbd"
      },
      "execution_count": null,
      "outputs": [
        {
          "output_type": "stream",
          "name": "stdout",
          "text": [
            "Initial stack\n",
            "['a', 'b', 'c']\n",
            "\n",
            "Elements popped from stack:\n",
            "c\n",
            "b\n",
            "a\n",
            "\n",
            "Stack after elements are popped:\n",
            "[]\n"
          ]
        }
      ]
    },
    {
      "cell_type": "code",
      "source": [
        "queue = []\n",
        "queue.append('a')\n",
        "queue.append('b')\n",
        "queue.append('c')\n",
        "print(\"Initial queue\")\n",
        "print(queue)\n",
        "print(\"\\nElements dequeued from queue\")\n",
        "print(queue.pop(0))\n",
        "print(queue.pop(0))\n",
        "print(queue.pop(0))\n",
        "print(\"\\nQueue after removing elements\")\n",
        "print(queue)"
      ],
      "metadata": {
        "colab": {
          "base_uri": "https://localhost:8080/"
        },
        "id": "AqdLrP6eLqVG",
        "outputId": "ed550e47-f740-438f-fd68-9a4b3fd08c0a"
      },
      "execution_count": null,
      "outputs": [
        {
          "output_type": "stream",
          "name": "stdout",
          "text": [
            "Initial queue\n",
            "['a', 'b', 'c']\n",
            "\n",
            "Elements dequeued from queue\n",
            "a\n",
            "b\n",
            "c\n",
            "\n",
            "Queue after removing elements\n",
            "[]\n"
          ]
        }
      ]
    },
    {
      "cell_type": "code",
      "source": [
        "d1={'g':'gold'\n",
        ",\n",
        "'s':'silver'\n",
        ",\n",
        "'p':'platinum'\n",
        ",\n",
        "'d':'diamond'}\n",
        "d2={0:False,1:True}\n",
        "print(len(d1))\n",
        "print(all(d2))\n",
        "print(any(d2))\n",
        "print(sorted(d1))"
      ],
      "metadata": {
        "colab": {
          "base_uri": "https://localhost:8080/"
        },
        "id": "x7XkzQjLMYsm",
        "outputId": "2f0a5ed1-f936-4e96-b2e3-7335cee93057"
      },
      "execution_count": null,
      "outputs": [
        {
          "output_type": "stream",
          "name": "stdout",
          "text": [
            "4\n",
            "False\n",
            "True\n",
            "['d', 'g', 'p', 's']\n"
          ]
        }
      ]
    },
    {
      "cell_type": "code",
      "source": [
        "d1={'g':'gold','s':'silver','p':'platinum','d':'diamond'}\n",
        "d2={0:False,1:True}\n",
        "print(d1)\n",
        "d1.update(d2)\n",
        "print(d1)\n",
        "new_d1=d1.fromkeys(d1,\"All metals\")\n",
        "print(new_d1)\n",
        "print(d1.get('s'))\n",
        "x=d2.items()\n",
        "print(x)\n",
        "d1.pop('s')\n",
        "print(d1)\n",
        "d1.setdefault('e',\"demometal\")\n",
        "print(d1)\n",
        "d1.popitem()\n",
        "print(d1)\n",
        "new_d2=d2.copy()\n",
        "print(new_d2)\n",
        "d2.clear()\n",
        "print(d2)"
      ],
      "metadata": {
        "colab": {
          "base_uri": "https://localhost:8080/"
        },
        "id": "fmpOoLP5Nncd",
        "outputId": "d6c3f9a2-f5db-4044-c923-f67eb577dc64"
      },
      "execution_count": null,
      "outputs": [
        {
          "output_type": "stream",
          "name": "stdout",
          "text": [
            "{'g': 'gold', 's': 'silver', 'p': 'platinum', 'd': 'diamond'}\n",
            "{'g': 'gold', 's': 'silver', 'p': 'platinum', 'd': 'diamond', 0: False, 1: True}\n",
            "{'g': 'All metals', 's': 'All metals', 'p': 'All metals', 'd': 'All metals', 0: 'All metals', 1: 'All metals'}\n",
            "silver\n",
            "dict_items([(0, False), (1, True)])\n",
            "{'g': 'gold', 'p': 'platinum', 'd': 'diamond', 0: False, 1: True}\n",
            "{'g': 'gold', 'p': 'platinum', 'd': 'diamond', 0: False, 1: True, 'e': 'demometal'}\n",
            "{'g': 'gold', 'p': 'platinum', 'd': 'diamond', 0: False, 1: True}\n",
            "{0: False, 1: True}\n",
            "{}\n"
          ]
        }
      ]
    },
    {
      "cell_type": "code",
      "source": [
        "keys = [\"One\"\n",
        ",\n",
        "\"Two\"\n",
        ",\n",
        "\"Three\"\n",
        ",\n",
        "\"Four\"]\n",
        "values = [1,2,3,4]\n",
        "d1 = {k:v for k,v in zip(keys, values)}\n",
        "print(d1)"
      ],
      "metadata": {
        "colab": {
          "base_uri": "https://localhost:8080/"
        },
        "id": "3urpntLoOK9r",
        "outputId": "80dcc753-b926-4981-f664-04d8963a9d96"
      },
      "execution_count": null,
      "outputs": [
        {
          "output_type": "stream",
          "name": "stdout",
          "text": [
            "{'One': 1, 'Two': 2, 'Three': 3, 'Four': 4}\n"
          ]
        }
      ]
    },
    {
      "cell_type": "code",
      "source": [
        "\n"
      ],
      "metadata": {
        "id": "PxwuAn_QiLwF"
      },
      "execution_count": null,
      "outputs": []
    },
    {
      "cell_type": "code",
      "source": [
        "d1={}\n",
        "d1.update({\"d\":\"diamond\"})\n",
        "d1[\"g\"]=\"gold\"\n",
        "print(d1)"
      ],
      "metadata": {
        "colab": {
          "base_uri": "https://localhost:8080/"
        },
        "id": "2v1ngt_WOLDp",
        "outputId": "f9b6ffd8-b630-4006-db6d-cb572bd6ce07"
      },
      "execution_count": null,
      "outputs": [
        {
          "output_type": "stream",
          "name": "stdout",
          "text": [
            "{'d': 'diamond', 'g': 'gold'}\n"
          ]
        }
      ]
    },
    {
      "cell_type": "code",
      "source": [
        "fast_food = [\"MACHURIAN\",\"NOODLES\",\"PANIPURI\",\"FRIED RICE\"]\n",
        "for each_item in fast_food:\n",
        " print(f\"I like to eat {each_item}\")"
      ],
      "metadata": {
        "colab": {
          "base_uri": "https://localhost:8080/"
        },
        "id": "E-0d4yXTKvFt",
        "outputId": "bcc70074-9943-43d9-aa71-559c05d88378"
      },
      "execution_count": null,
      "outputs": [
        {
          "output_type": "stream",
          "name": "stdout",
          "text": [
            "I like to eat MACHURIAN\n",
            "I like to eat NOODLES\n",
            "I like to eat PANIPURI\n",
            "I like to eat FRIED RICE\n"
          ]
        }
      ]
    }
  ]
}